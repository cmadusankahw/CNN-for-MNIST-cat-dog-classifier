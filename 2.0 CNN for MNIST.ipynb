{
 "cells": [
  {
   "cell_type": "code",
   "execution_count": 25,
   "metadata": {},
   "outputs": [],
   "source": [
    "from keras import datasets\n",
    "\n",
    "mnist=datasets.mnist\n",
    "(train_data,train_target),(test_data,test_target)=mnist.load_data()"
   ]
  },
  {
   "cell_type": "code",
   "execution_count": 26,
   "metadata": {},
   "outputs": [
    {
     "name": "stdout",
     "output_type": "stream",
     "text": [
      "[0. 0. 0. 0. 0. 1. 0. 0. 0. 0.]\n"
     ]
    }
   ],
   "source": [
    "train_data=train_data/255.0\n",
    "test_data=test_data/255.0\n",
    "\n",
    "img_size=28\n",
    "\n",
    "train_data=train_data.reshape(train_data.shape[0],img_size,img_size,1)\n",
    "test_data=test_data.reshape(test_data.shape[0],img_size,img_size,1)\n",
    "\n",
    "num_classes=10\n",
    "from keras.utils import to_categorical\n",
    "\n",
    "train_target=to_categorical(train_target,num_classes)\n",
    "\n",
    "print(train_target[0])"
   ]
  },
  {
   "cell_type": "code",
   "execution_count": 27,
   "metadata": {},
   "outputs": [],
   "source": [
    "from keras.models import Sequential\n",
    "from keras.layers import Dense,Dropout,Flatten,Activation\n",
    "from keras.layers import Conv2D,MaxPooling2D\n",
    "\n",
    "model=Sequential()\n",
    "\n",
    "model.add(Conv2D(32,kernel_size=(3,3),input_shape=train_data.shape[1:]))\n",
    "model.add(Activation('relu'))\n",
    "model.add(MaxPooling2D(pool_size=(2,2)))\n",
    "\n",
    "model.add(Conv2D(32,kernel_size=(3,3)))\n",
    "model.add(Activation('relu'))\n",
    "model.add(MaxPooling2D(pool_size=(2,2)))\n",
    "\n",
    "model.add(Flatten()) #flatten the 2D into 1D layer\n",
    "model.add(Dense(64))\n",
    "model.add(Dense(10,activation='softmax'))\n",
    "model.compile(loss='categorical_crossentropy',optimizer='adam',metrics=['accuracy'])"
   ]
  },
  {
   "cell_type": "code",
   "execution_count": 28,
   "metadata": {},
   "outputs": [
    {
     "name": "stdout",
     "output_type": "stream",
     "text": [
      "WARNING:tensorflow:From c:\\users\\hp\\appdata\\local\\programs\\python\\python36\\lib\\site-packages\\tensorflow\\python\\ops\\math_ops.py:3066: to_int32 (from tensorflow.python.ops.math_ops) is deprecated and will be removed in a future version.\n",
      "Instructions for updating:\n",
      "Use tf.cast instead.\n",
      "Epoch 1/10\n",
      "60000/60000 [==============================] - 69s 1ms/step - loss: 0.1486 - acc: 0.9546\n",
      "Epoch 2/10\n",
      "60000/60000 [==============================] - 66s 1ms/step - loss: 0.0506 - acc: 0.9842\n",
      "Epoch 3/10\n",
      "60000/60000 [==============================] - 65s 1ms/step - loss: 0.0387 - acc: 0.9880\n",
      "Epoch 4/10\n",
      "60000/60000 [==============================] - 66s 1ms/step - loss: 0.0308 - acc: 0.9903\n",
      "Epoch 5/10\n",
      "60000/60000 [==============================] - 65s 1ms/step - loss: 0.0253 - acc: 0.9916\n",
      "Epoch 6/10\n",
      "60000/60000 [==============================] - 65s 1ms/step - loss: 0.0211 - acc: 0.9930\n",
      "Epoch 7/10\n",
      "60000/60000 [==============================] - 65s 1ms/step - loss: 0.0172 - acc: 0.9945\n",
      "Epoch 8/10\n",
      "60000/60000 [==============================] - 66s 1ms/step - loss: 0.0157 - acc: 0.9949\n",
      "Epoch 9/10\n",
      "60000/60000 [==============================] - 65s 1ms/step - loss: 0.0128 - acc: 0.9960\n",
      "Epoch 10/10\n",
      "60000/60000 [==============================] - 69s 1ms/step - loss: 0.0128 - acc: 0.9955\n"
     ]
    }
   ],
   "source": [
    "history=model.fit(train_data,train_target,epochs=10)"
   ]
  },
  {
   "cell_type": "code",
   "execution_count": 30,
   "metadata": {},
   "outputs": [
    {
     "data": {
      "text/plain": [
       "[<matplotlib.lines.Line2D at 0x280849e2ef0>]"
      ]
     },
     "execution_count": 30,
     "metadata": {},
     "output_type": "execute_result"
    },
    {
     "data": {
      "image/png": "[encoded data removed]",
      "text/plain": [
       "<matplotlib.figure.Figure at 0x2808496f908>"
      ]
     },
     "metadata": {
      "needs_background": "light"
     },
     "output_type": "display_data"
    }
   ],
   "source": [
    "from matplotlib import pyplot as plt\n",
    "\n",
    "plt.plot(history.history['loss'])"
   ]
  },
  {
   "cell_type": "code",
   "execution_count": 32,
   "metadata": {},
   "outputs": [
    {
     "data": {
      "text/plain": [
       "[<matplotlib.lines.Line2D at 0x28084a71dd8>]"
      ]
     },
     "execution_count": 32,
     "metadata": {},
     "output_type": "execute_result"
    },
    {
     "data": {
      "image/png": "[encoded data removed]",
      "text/plain": [
       "<matplotlib.figure.Figure at 0x280849c0e48>"
      ]
     },
     "metadata": {
      "needs_background": "light"
     },
     "output_type": "display_data"
    }
   ],
   "source": [
    "plt.plot(history.history['acc'])"
   ]
  },
  {
   "cell_type": "code",
   "execution_count": null,
   "metadata": {},
   "outputs": [],
   "source": []
  }
 ],
 "metadata": {
  "kernelspec": {
   "display_name": "Python 3",
   "language": "python",
   "name": "python3"
  },
  "language_info": {
   "codemirror_mode": {
    "name": "ipython",
    "version": 3
   },
   "file_extension": ".py",
   "mimetype": "text/x-python",
   "name": "python",
   "nbconvert_exporter": "python",
   "pygments_lexer": "ipython3",
   "version": "3.6.8"
  }
 },
 "nbformat": 4,
 "nbformat_minor": 2
}
